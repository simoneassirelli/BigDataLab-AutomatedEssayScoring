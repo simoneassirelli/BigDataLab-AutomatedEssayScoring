{
 "cells": [
  {
   "cell_type": "code",
   "execution_count": 4,
   "metadata": {},
   "outputs": [],
   "source": [
    "from transformers import AutoModel,AutoTokenizer\n",
    "import os"
   ]
  },
  {
   "cell_type": "code",
   "execution_count": 5,
   "metadata": {},
   "outputs": [],
   "source": [
    "models = [\n",
    "    'microsoft/deberta-base',\n",
    "    'microsoft/deberta-large',\n",
    "    'microsoft/deberta-v3-large', \n",
    "    'allenai/longformer-base-4096',\n",
    "    'google/bigbird-roberta-base', \n",
    "    'google/bigbird-roberta-large',\n",
    "]"
   ]
  },
  {
   "cell_type": "code",
   "execution_count": 6,
   "metadata": {},
   "outputs": [
    {
     "name": "stdout",
     "output_type": "stream",
     "text": [
      "#########################\n",
      "### Downloading and saving microsoft/deberta-base...\n",
      "\n",
      "#########################\n",
      "### Downloading and saving microsoft/deberta-large...\n",
      "\n",
      "#########################\n",
      "### Downloading and saving microsoft/deberta-v3-large...\n",
      "\n",
      "#########################\n",
      "### Downloading and saving allenai/longformer-base-4096...\n",
      "\n",
      "#########################\n",
      "### Downloading and saving google/bigbird-roberta-base...\n",
      "\n",
      "#########################\n",
      "### Downloading and saving google/bigbird-roberta-large...\n",
      "\n"
     ]
    }
   ],
   "source": [
    "save_dir = 'huggingface-models'\n",
    "\n",
    "for model_name in models:\n",
    "    \n",
    "    # DISPLAY MODEL NAME\n",
    "    print('#'*25)\n",
    "    print(f'### Downloading and saving {model_name}...')\n",
    "    name = os.path.join(save_dir, model_name.replace(\"/\",\"_\"))\n",
    "    \n",
    "    # SAVE MODEL\n",
    "    model = AutoModel.from_pretrained(model_name, trust_remote_code=True)\n",
    "    model.save_pretrained(name)\n",
    "    \n",
    "    # SAVE TOKENIZER\n",
    "    tokenizer = AutoTokenizer.from_pretrained(model_name, trust_remote_code=True)\n",
    "    tokenizer.save_pretrained(name)\n",
    "    \n",
    "    print()"
   ]
  }
 ],
 "metadata": {
  "kernelspec": {
   "display_name": "Python 3",
   "language": "python",
   "name": "python3"
  },
  "language_info": {
   "codemirror_mode": {
    "name": "ipython",
    "version": 3
   },
   "file_extension": ".py",
   "mimetype": "text/x-python",
   "name": "python",
   "nbconvert_exporter": "python",
   "pygments_lexer": "ipython3",
   "version": "3.10.13"
  }
 },
 "nbformat": 4,
 "nbformat_minor": 2
}
